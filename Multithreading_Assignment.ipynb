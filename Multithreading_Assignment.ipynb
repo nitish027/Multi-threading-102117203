{
  "cells": [
    {
      "cell_type": "code",
      "execution_count": 1,
      "metadata": {
        "id": "MrkUeG50jxTa"
      },
      "outputs": [],
      "source": [
        "import numpy as np\n",
        "import pandas as pd\n",
        "import time\n",
        "import threading\n",
        "import random as r\n",
        "import matplotlib.pyplot as plt"
      ]
    },
    {
      "cell_type": "code",
      "execution_count": 2,
      "metadata": {
        "id": "lEB-n3g0mM1I"
      },
      "outputs": [],
      "source": [
        "def generate_random_matrices(n, size):\n",
        "    matrices = []\n",
        "    for _ in range(n):\n",
        "        matrices.append(np.random.rand(size, size))\n",
        "    return matrices\n",
        "\n",
        "def multiply_matrices(matrices):\n",
        "    constant_matrix = np.random.rand(matrix_size, matrix_size)\n",
        "    result = constant_matrix.copy()\n",
        "    for matrix in matrices:\n",
        "        result = np.dot(result, matrix)\n",
        "    return result\n",
        "\n",
        "def perform_multiplication_with_threads(num_threads):\n",
        "    start_time = time.time()\n",
        "    threads = []\n",
        "    for i in range(0, len(matrices), num_threads):\n",
        "        thread = threading.Thread(target=multiply_matrices, args=(matrices[i:i+num_threads],))\n",
        "        threads.append(thread)\n",
        "        thread.start()\n",
        "\n",
        "    for thread in threads:\n",
        "        thread.join()\n",
        "    end_time = time.time()\n",
        "    return end_time - start_time"
      ]
    },
    {
      "cell_type": "code",
      "execution_count": 7,
      "metadata": {
        "id": "1hGnJ8LamWk2"
      },
      "outputs": [],
      "source": [
        "num_matrices = 100\n",
        "matrix_size = 1000\n",
        "matrices=generate_random_matrices(num_matrices,matrix_size)"
      ]
    },
    {
      "cell_type": "code",
      "execution_count": 8,
      "metadata": {
        "id": "QHZpAm26mcb1"
      },
      "outputs": [],
      "source": [
        "# Perform multiplication with different numbers of threads\n",
        "results = {}\n",
        "for num_threads in range(1, 9):\n",
        "    time_taken = perform_multiplication_with_threads(num_threads)\n",
        "    results[num_threads] = time_taken"
      ]
    },
    {
      "cell_type": "code",
      "execution_count": 9,
      "metadata": {
        "id": "YL9G-SaypwM6"
      },
      "outputs": [],
      "source": [
        "# Create DataFrame\n",
        "df = pd.DataFrame.from_dict(results, orient='index', columns=['Time Taken (s)'])\n",
        "df['Threads']=[1,2,3,4,5,6,7,8]\n",
        "column_to_move = df.pop(\"Threads\")\n",
        "df.insert(0, \"Threads\", column_to_move)\n",
        "df.set_index('Threads', inplace=True)"
      ]
    },
    {
      "cell_type": "code",
      "execution_count": 10,
      "metadata": {
        "colab": {
          "base_uri": "https://localhost:8080/",
          "height": 787
        },
        "id": "us4GRWg0t8GL",
        "outputId": "db749bf4-2956-492f-bee2-b74090385ae6"
      },
      "outputs": [
        {
          "data": {
            "text/html": [
              "<div>\n",
              "<style scoped>\n",
              "    .dataframe tbody tr th:only-of-type {\n",
              "        vertical-align: middle;\n",
              "    }\n",
              "\n",
              "    .dataframe tbody tr th {\n",
              "        vertical-align: top;\n",
              "    }\n",
              "\n",
              "    .dataframe thead th {\n",
              "        text-align: right;\n",
              "    }\n",
              "</style>\n",
              "<table border=\"1\" class=\"dataframe\">\n",
              "  <thead>\n",
              "    <tr style=\"text-align: right;\">\n",
              "      <th></th>\n",
              "      <th>Time Taken (s)</th>\n",
              "    </tr>\n",
              "    <tr>\n",
              "      <th>Threads</th>\n",
              "      <th></th>\n",
              "    </tr>\n",
              "  </thead>\n",
              "  <tbody>\n",
              "    <tr>\n",
              "      <th>1</th>\n",
              "      <td>3.609289</td>\n",
              "    </tr>\n",
              "    <tr>\n",
              "      <th>2</th>\n",
              "      <td>2.695005</td>\n",
              "    </tr>\n",
              "    <tr>\n",
              "      <th>3</th>\n",
              "      <td>2.591686</td>\n",
              "    </tr>\n",
              "    <tr>\n",
              "      <th>4</th>\n",
              "      <td>2.335895</td>\n",
              "    </tr>\n",
              "    <tr>\n",
              "      <th>5</th>\n",
              "      <td>2.386724</td>\n",
              "    </tr>\n",
              "    <tr>\n",
              "      <th>6</th>\n",
              "      <td>2.311468</td>\n",
              "    </tr>\n",
              "    <tr>\n",
              "      <th>7</th>\n",
              "      <td>2.247335</td>\n",
              "    </tr>\n",
              "    <tr>\n",
              "      <th>8</th>\n",
              "      <td>2.831600</td>\n",
              "    </tr>\n",
              "  </tbody>\n",
              "</table>\n",
              "</div>"
            ],
            "text/plain": [
              "         Time Taken (s)\n",
              "Threads                \n",
              "1              3.609289\n",
              "2              2.695005\n",
              "3              2.591686\n",
              "4              2.335895\n",
              "5              2.386724\n",
              "6              2.311468\n",
              "7              2.247335\n",
              "8              2.831600"
            ]
          },
          "metadata": {},
          "output_type": "display_data"
        },
        {
          "data": {
            "image/png": "[encoded data removed]",
            "text/plain": [
              "<Figure size 640x480 with 1 Axes>"
            ]
          },
          "metadata": {},
          "output_type": "display_data"
        }
      ],
      "source": [
        "# Visualize DataFrame\n",
        "display(df)\n",
        "\n",
        "# Plot\n",
        "df.plot()\n",
        "plt.xlabel('Number of Threads')\n",
        "plt.ylabel('Time Taken (s)')\n",
        "plt.title('Time Taken vs Number of Threads')\n",
        "plt.show()"
      ]
    },
    {
      "cell_type": "code",
      "execution_count": null,
      "metadata": {},
      "outputs": [],
      "source": []
    },
    {
      "cell_type": "code",
      "execution_count": null,
      "metadata": {},
      "outputs": [],
      "source": []
    }
  ],
  "metadata": {
    "colab": {
      "provenance": []
    },
    "kernelspec": {
      "display_name": "Python 3",
      "name": "python3"
    },
    "language_info": {
      "codemirror_mode": {
        "name": "ipython",
        "version": 3
      },
      "file_extension": ".py",
      "mimetype": "text/x-python",
      "name": "python",
      "nbconvert_exporter": "python",
      "pygments_lexer": "ipython3",
      "version": "3.12.1"
    }
  },
  "nbformat": 4,
  "nbformat_minor": 0
}
